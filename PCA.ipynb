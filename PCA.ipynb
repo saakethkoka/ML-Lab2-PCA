{
 "cells": [
  {
   "cell_type": "markdown",
   "source": [
    "# Business Case"
   ],
   "metadata": {
    "collapsed": false,
    "pycharm": {
     "name": "#%% md\n"
    }
   }
  },
  {
   "cell_type": "markdown",
   "source": [
    "# Reading in the Data"
   ],
   "metadata": {
    "collapsed": false,
    "pycharm": {
     "name": "#%% md\n"
    }
   }
  },
  {
   "cell_type": "code",
   "execution_count": 59,
   "outputs": [],
   "source": [
    "from PIL import Image\n",
    "import numpy as np\n",
    "import os\n",
    "import time\n",
    "import pickle\n",
    "import matplotlib.pyplot as plt"
   ],
   "metadata": {
    "collapsed": false,
    "pycharm": {
     "name": "#%%\n"
    }
   }
  },
  {
   "cell_type": "code",
   "execution_count": 60,
   "outputs": [],
   "source": [
    "LOAD_FROM_PICKLES = True # Set if data should be loaded from pickles if they exists\n",
    "SAVE_TO_PICKLES = True # Set if data should be saved to pickles where applicable"
   ],
   "metadata": {
    "collapsed": false,
    "pycharm": {
     "name": "#%%\n"
    }
   }
  },
  {
   "cell_type": "code",
   "execution_count": 61,
   "outputs": [],
   "source": [
    "# Loads a single image from a given path\n",
    "def _load_image(filename):\n",
    "    # load the image\n",
    "    img = Image.open(filename)\n",
    "    # convert to numpy array and add a column to the end of the file:\n",
    "    data = np.asarray(img)\n",
    "    # Flattening the image to a 1d array\n",
    "    data = data.flatten()\n",
    "    return data\n",
    "\n",
    "# Loads all images from a given directory\n",
    "def _load_images_from_sub_directory(directory):\n",
    "    start = time.time()\n",
    "    images = []\n",
    "    for filename in os.listdir(directory):\n",
    "        if filename[-4:] == '.jpg':\n",
    "            images.append(_load_image(directory + '/' + filename))\n",
    "    # return images as numpy array:\n",
    "    return np.asarray(images)\n",
    "\n",
    "# Loads all images from subdirectories of the given directory and returns as a numpy array\n",
    "def load_images(directory):\n",
    "    images = []\n",
    "    labels = []\n",
    "    i = 0\n",
    "    for subdir in os.listdir(directory):\n",
    "        if subdir[0] == \".\":\n",
    "            continue\n",
    "        subdir_path = directory + '/' + subdir + '/'\n",
    "        subdir_images = _load_images_from_sub_directory(subdir_path)\n",
    "        labels.extend([subdir] * len(subdir_images))\n",
    "        images.append(subdir_images)\n",
    "        i += 1\n",
    "        print(\"Loaded \" + str(i) + \" subdirectories\")\n",
    "    return np.concatenate(images), np.asarray(labels)"
   ],
   "metadata": {
    "collapsed": false,
    "pycharm": {
     "name": "#%%\n"
    }
   }
  },
  {
   "cell_type": "markdown",
   "source": [
    "Loading images from pickled files if they exist and the option to load is specified"
   ],
   "metadata": {
    "collapsed": false,
    "pycharm": {
     "name": "#%% md\n"
    }
   }
  },
  {
   "cell_type": "code",
   "execution_count": 62,
   "outputs": [
    {
     "name": "stdout",
     "output_type": "stream",
     "text": [
      "CPU times: user 948 µs, sys: 257 ms, total: 258 ms\n",
      "Wall time: 576 ms\n"
     ]
    }
   ],
   "source": [
    "%%time\n",
    "# Loading to pickle files if the option is specified\n",
    "if LOAD_FROM_PICKLES and os.path.exists(\"pickles/images.pickle\") and os.path.exists(\"pickles/labels.pickle\"):\n",
    "    with open(\"pickles/images.pickle\", \"rb\") as f:\n",
    "        images = pickle.load(f)\n",
    "    with open(\"pickles/labels.pickle\", \"rb\") as f:\n",
    "        labels = pickle.load(f)\n",
    "else:\n",
    "    images, labels = load_images(\"CNN_letter_Dataset\")\n",
    "    # Saving to pickle files if the option is specified\n",
    "    if SAVE_TO_PICKLES:\n",
    "        with open(\"pickles/images.pickle\", \"wb\") as f:\n",
    "            pickle.dump(images, f)\n",
    "        with open(\"pickles/labels.pickle\", \"wb\") as f:\n",
    "            pickle.dump(labels, f)"
   ],
   "metadata": {
    "collapsed": false,
    "pycharm": {
     "name": "#%%\n"
    }
   }
  },
  {
   "cell_type": "code",
   "execution_count": 63,
   "outputs": [],
   "source": [
    "# Shuffling the images so they are not in order\n",
    "indices = np.arange(len(images))\n",
    "np.random.shuffle(indices)\n",
    "images = images[indices]\n",
    "labels = labels[indices]"
   ],
   "metadata": {
    "collapsed": false,
    "pycharm": {
     "name": "#%%\n"
    }
   }
  }
 ],
 "metadata": {
  "kernelspec": {
   "display_name": "Python 3",
   "language": "python",
   "name": "python3"
  },
  "language_info": {
   "codemirror_mode": {
    "name": "ipython",
    "version": 2
   },
   "file_extension": ".py",
   "mimetype": "text/x-python",
   "name": "python",
   "nbconvert_exporter": "python",
   "pygments_lexer": "ipython2",
   "version": "2.7.6"
  }
 },
 "nbformat": 4,
 "nbformat_minor": 0
}